{
 "cells": [
  {
   "cell_type": "code",
   "execution_count": null,
   "metadata": {
    "collapsed": false
   },
   "outputs": [],
   "source": [
    "###Question 1\n",
    "name=raw_input(\"Who is?\")\n",
    "answer=raw_input(\"Guido Van Rossum is a Dutch computer programmer who designed Python programming\")\n",
    "print (answer)\n"
   ]
  },
  {
   "cell_type": "markdown",
   "metadata": {
    "collapsed": false
   },
   "source": [
    "###Question 2\n",
    "#A \"Hello, World!\" was the most famous first programming exercise. It was coined in 1974 by Bell Laboratories internal #memorandum by Brian Kernighan, Programming in C: A Tutorial\n",
    "#url:https://en.wikipedia.org/wiki/%22Hello,_World!%22_program\n",
    "#Credit: Wikipedia\n",
    "\n",
    "print(\"hello, world\",sep=\"\")\n",
    "#output: hello,world"
   ]
  },
  {
   "cell_type": "code",
   "execution_count": 21,
   "metadata": {
    "collapsed": false
   },
   "outputs": [
    {
     "name": "stdout",
     "output_type": "stream",
     "text": [
      "4002\n"
     ]
    }
   ],
   "source": [
    "###Question 3\n",
    "A=1986\n",
    "B=2016\n",
    "sum = A+B\n",
    "print (sum)\n"
   ]
  },
  {
   "cell_type": "code",
   "execution_count": 22,
   "metadata": {
    "collapsed": false
   },
   "outputs": [
    {
     "name": "stdout",
     "output_type": "stream",
     "text": [
      "1.5\n"
     ]
    }
   ],
   "source": [
    "###Question 4\n",
    "A=3\n",
    "B=2\n",
    "divide = A/B\n",
    "print (divide)\n",
    "##It is expected answer because 3/2 is equal to 1.5"
   ]
  },
  {
   "cell_type": "code",
   "execution_count": 26,
   "metadata": {
    "collapsed": false
   },
   "outputs": [
    {
     "data": {
      "text/plain": [
       "[0, 5, 10, 15, 20, 25, 30, 35, 40, 45]"
      ]
     },
     "execution_count": 26,
     "metadata": {},
     "output_type": "execute_result"
    }
   ],
   "source": [
    "###Question5\n",
    "#produces the list iterator of numbers starting with begin (inclusive) and ending with one less than the number \"end\". \n",
    "#Credit url:http://www.python-course.eu/python3_for_loop.php\n",
    "list (range(0,50,5))"
   ]
  },
  {
   "cell_type": "code",
   "execution_count": 41,
   "metadata": {
    "collapsed": false
   },
   "outputs": [
    {
     "data": {
      "text/plain": [
       "array([673977, 166471, 349088, 491490, 736575, 127260, 731146, 687229,\n",
       "       902533, 312061])"
      ]
     },
     "execution_count": 41,
     "metadata": {},
     "output_type": "execute_result"
    }
   ],
   "source": [
    "###Question6\n",
    "#Return random integers between low and high, inclusive.Return random integers from the “discrete uniform” distribution in the closed interval [low, high]. \n",
    "import numpy as np\n",
    "np.random.random_integers(0,1000000,10)\n",
    "#Credit url:http://docs.scipy.org/doc/numpy-1.10.0/reference/generated/numpy.random.random_integers.html#numpy.random.random_integers"
   ]
  },
  {
   "cell_type": "code",
   "execution_count": null,
   "metadata": {
    "collapsed": true
   },
   "outputs": [],
   "source": [
    "###Question 7\n",
    "Python is based on zero-based indexing. This means that the \"initial element of the sequence starts from 0 instead of 1. For example: CARL, C's position is 0, A is 1, R is 2 and L is position 3. This helps in avoiding confusion while making data arrays.\n",
    "Also, it seems that programming language can be consistent with the numerical system which starts from 0 onwards.\n",
    "Credit urls:\n",
    "    1. https://en.wikipedia.org/wiki/Zero-based_numbering\n",
    "    2. http://programmers.stackexchange.com/questions/110804/why-are-zero-based-arrays-the-norm"
   ]
  }
 ],
 "metadata": {
  "kernelspec": {
   "display_name": "Python 3",
   "language": "python",
   "name": "python3"
  },
  "language_info": {
   "codemirror_mode": {
    "name": "ipython",
    "version": 3
   },
   "file_extension": ".py",
   "mimetype": "text/x-python",
   "name": "python",
   "nbconvert_exporter": "python",
   "pygments_lexer": "ipython3",
   "version": "3.5.1"
  }
 },
 "nbformat": 4,
 "nbformat_minor": 0
}
